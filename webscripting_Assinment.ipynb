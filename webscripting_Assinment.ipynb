{
 "cells": [
  {
   "cell_type": "code",
   "execution_count": 160,
   "id": "462497bd-5a6d-44c2-93ca-d469fbe85e9d",
   "metadata": {},
   "outputs": [],
   "source": [
    "import requests\n",
    "from bs4 import BeautifulSoup\n",
    "import json\n",
    "import re"
   ]
  },
  {
   "cell_type": "code",
   "execution_count": 164,
   "id": "8b87dde3-5d8b-41c4-8195-d0ed86587612",
   "metadata": {},
   "outputs": [],
   "source": [
    "url = 'https://www.thriftbooks.com/browse/?13362col#b.s=bestsellers-desc&b.p=2&b.pp=50&b.col&b.f.t%5B%5D=13362&b.list'\n"
   ]
  },
  {
   "cell_type": "code",
   "execution_count": 165,
   "id": "96be9045-8cc3-4623-818a-561debdfc230",
   "metadata": {},
   "outputs": [
    {
     "data": {
      "text/plain": [
       "<Response [200]>"
      ]
     },
     "execution_count": 165,
     "metadata": {},
     "output_type": "execute_result"
    }
   ],
   "source": [
    "# content = requests.get(url).content\n",
    "# soup = BeautifulSoup(content, 'html.parser')\n",
    "# # web=requests.get(url).content\n",
    "content = requests.get(url)\n",
    "content\n"
   ]
  },
  {
   "cell_type": "code",
   "execution_count": 166,
   "id": "50c58b3d-55b4-4119-abc6-59f9a2f4de0a",
   "metadata": {},
   "outputs": [],
   "source": [
    "content = requests.get(url).content\n",
    "soup = BeautifulSoup(content, 'html.parser')"
   ]
  },
  {
   "cell_type": "code",
   "execution_count": 183,
   "id": "81f11765-f6a7-4a57-acab-bb2b65b51f81",
   "metadata": {},
   "outputs": [],
   "source": [
    "data = soup.find_all('script')\n",
    "string = data[12].string\n",
    "\n",
    "data = {}\n",
    "\n",
    "match = re.search(r'window.searchStoreV2\\s*=\\s*(\\{.*?\\});', string, re.DOTALL)\n",
    "match\n",
    "if match:\n",
    "    works = match.group(1)\n",
    "    works_json = json.loads(works)\n",
    "\n",
    "    works = works_json.get('works',[])\n",
    "# dictionary_data=dict(works[0:])\n",
    "# with open(r'thrift_books_data.csv', 'a') as f:\n",
    "#     f.write(f'title,condition,buy_price\\n')\n",
    "\n",
    "for i in works:\n",
    "    data.update(i)\n",
    "    title = data['title']\n",
    "    condition = data['buyNowCondition']   \n",
    "    buy_price = data['buyNowPrice']\n",
    "\n",
    "    with open(r'thrift_books_data.csv', 'a') as f:\n",
    "        f.write(f'{title},{condition},{buy_price}\\n')\n",
    "    "
   ]
  },
  {
   "cell_type": "code",
   "execution_count": 182,
   "id": "7d712b89-e28b-4b48-a9d7-1dfc9037ee34",
   "metadata": {},
   "outputs": [
    {
     "data": {
      "text/plain": [
       "{'buyNowIDIQ': 1111098,\n",
       " 'buyNowCondition': 'Good',\n",
       " 'buyNowConditionScore': 3,\n",
       " 'language': 'english',\n",
       " 'imageUrl': 'https://i.thriftbooks.com/api/imagehandler/m/9F7ADEA65D62E01889D9FB69BE07CBFBAD82807F.jpeg',\n",
       " 'idAmazon': 1808582,\n",
       " 'availableCopies': 390,\n",
       " 'idWishList': 0,\n",
       " 'buyNowIsExLib': False,\n",
       " 'buyNowIsNoCD': False,\n",
       " 'buyNowIsNoDust': True,\n",
       " 'buyNowPrice': 5.79,\n",
       " 'isThriftDeal': False,\n",
       " 'searchResultId': '7d66e683-32ff-40a3-8a28-d429f200ceb2',\n",
       " 'idWork': 248206,\n",
       " 'title': 'Harry Potter and the Order of the Phoenix',\n",
       " 'workUrl': 'harry-potter-and-the-order-of-the-phoenix_jk-rowling',\n",
       " 'workImageMedium': 'https://i.thriftbooks.com/api/imagehandler/m/6E15B73094C00D51E9D7D5CA3F6D0B6CB6F86F4E.jpeg',\n",
       " 'workImageSmall': 'https://i.thriftbooks.com/api/imagehandler/s/6E15B73094C00D51E9D7D5CA3F6D0B6CB6F86F4E.jpeg',\n",
       " 'workImageLarge': 'https://i.thriftbooks.com/api/imagehandler/l/6E15B73094C00D51E9D7D5CA3F6D0B6CB6F86F4E.jpeg',\n",
       " 'lowPrice': 4.39,\n",
       " 'highPrice': 80.09,\n",
       " 'idMedia': 45,\n",
       " 'media': 'Hardcover',\n",
       " 'idQuality': 3,\n",
       " 'idIq': 1111098,\n",
       " 'qualityDescription': 'Good',\n",
       " 'listPrice': 29.99,\n",
       " 'editionImageLarge': 'https://i.thriftbooks.com/api/imagehandler/l/9F7ADEA65D62E01889D9FB69BE07CBFBAD82807F.jpeg',\n",
       " 'editionImageMedium': 'https://i.thriftbooks.com/api/imagehandler/m/9F7ADEA65D62E01889D9FB69BE07CBFBAD82807F.jpeg',\n",
       " 'editionImageSmall': 'https://i.thriftbooks.com/api/imagehandler/s/9F7ADEA65D62E01889D9FB69BE07CBFBAD82807F.jpeg',\n",
       " 'idLanguage': 40,\n",
       " 'languageProperCase': 'English',\n",
       " 'publisher': 'Arthur A. Levine Books',\n",
       " 'releaseDate': '2003-07-01T00:00:00',\n",
       " 'onSaleDate': '0001-01-01T00:00:00',\n",
       " 'iSBN': '043935806X',\n",
       " 'numberOfReviews': 51,\n",
       " 'avgReviewScore': 4.94117641,\n",
       " 'authors': [{'idAuthor': 196363,\n",
       "   'authorName': 'J.K. Rowling',\n",
       "   'authorCleanUrl': 'jk-rowling',\n",
       "   'authorSalesRank': 3}],\n",
       " 'series': [{'idSeries': 37095,\n",
       "   'seriesCleanUrl': 'harry-potter',\n",
       "   'seriesName': 'Harry Potter',\n",
       "   'seriesPriority': 18,\n",
       "   'seriesNumber': '5'}],\n",
       " 'editions': None,\n",
       " 'allEditionCount': 151,\n",
       " 'collectibleCount': 10,\n",
       " 'collectibleLowPrice': 23.0,\n",
       " 'collectibleFormat': 'Hardcover',\n",
       " 'collectibleISBN': '0747569614',\n",
       " 'collectiblePublisher': 'Bloomsbury UK',\n",
       " 'collectibleReleaseDate': '01/01/2003',\n",
       " 'collectibleCondition': 'Good',\n",
       " 'collectibleImage': 'https://icollectible.thriftbooks.com/cimage/1666997056/1.jpg',\n",
       " 'collectibleTitle': 'Harry Potter and the Order of the Phoenix. J.K. Rowling',\n",
       " 'idCollectible': 1666997056,\n",
       " 'collectibleSignedBy': None,\n",
       " 'collectibleInscribedBy': None,\n",
       " 'collectibleEditionName': 'First Edition THUS',\n",
       " 'collectibleBuyNowPrice': 60.0,\n",
       " 'copiesPerSixMonths': 3312,\n",
       " 'listItemCount': 1610,\n",
       " 'isBackorder': False,\n",
       " 'rerankedSort': 0.0}"
      ]
     },
     "execution_count": 182,
     "metadata": {},
     "output_type": "execute_result"
    }
   ],
   "source": [
    "data"
   ]
  },
  {
   "cell_type": "code",
   "execution_count": 111,
   "id": "76af75ee-540f-48b5-88e0-d677c6a4f5bf",
   "metadata": {},
   "outputs": [],
   "source": [
    "for title in titles:\n",
    "    print(title.text)"
   ]
  },
  {
   "cell_type": "code",
   "execution_count": null,
   "id": "eb9539ea-8b61-4435-914b-10bee5c67ec4",
   "metadata": {},
   "outputs": [],
   "source": []
  }
 ],
 "metadata": {
  "kernelspec": {
   "display_name": "Python 3 (ipykernel)",
   "language": "python",
   "name": "python3"
  },
  "language_info": {
   "codemirror_mode": {
    "name": "ipython",
    "version": 3
   },
   "file_extension": ".py",
   "mimetype": "text/x-python",
   "name": "python",
   "nbconvert_exporter": "python",
   "pygments_lexer": "ipython3",
   "version": "3.12.7"
  }
 },
 "nbformat": 4,
 "nbformat_minor": 5
}
