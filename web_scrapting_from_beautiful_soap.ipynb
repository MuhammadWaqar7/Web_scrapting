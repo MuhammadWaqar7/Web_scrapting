{
 "cells": [
  {
   "cell_type": "code",
   "execution_count": 2,
   "id": "34577f0e-3215-4d1b-b417-85921a6d8390",
   "metadata": {},
   "outputs": [
    {
     "name": "stdout",
     "output_type": "stream",
     "text": [
      "Data saved to job_listings.csv\n"
     ]
    }
   ],
   "source": [
    "from bs4 import BeautifulSoup # import libraries\n",
    "import requests\n",
    "import pandas as pd\n",
    "response = requests.get(\"https://realpython.github.io/fake-jobs/\")  # Replace with your actual URL\n",
    "soup = BeautifulSoup(response.content, 'html.parser')\n",
    "all_data=[]\n",
    "divs=soup.find_all('div', class_=\"column is-half\")\n",
    "for div in divs:\n",
    "    title=div.find(\"h2\",class_=\"title is-5\").text\n",
    "    sub_title=div.find(\"h3\",class_=\"subtitle is-6 company\").text.strip()\n",
    "    locattion=div.find(\"p\", class_=\"location\").text.strip()\n",
    "    date=div.find('p', class_=\"is-small has-text-grey\").text.strip()\n",
    "    data=[title,sub_title,locattion,date]\n",
    "    all_data.append(data)\n",
    "    df = pd.DataFrame(all_data, columns=[\"Job Title\", \"Company\", \"Location\", \"Date\"])\n",
    "     # (After the scraping code above)\n",
    "\n",
    "# Save to CSV\n",
    "df.to_csv(\"my_project_job_listings.csv\", index=False)\n",
    "print(\"Data saved to job_listings.csv\")"
   ]
  },
  {
   "cell_type": "code",
   "execution_count": null,
   "id": "4507ff06-ff7a-4009-a805-e4f7b4c44b07",
   "metadata": {},
   "outputs": [],
   "source": []
  }
 ],
 "metadata": {
  "kernelspec": {
   "display_name": "Python 3 (ipykernel)",
   "language": "python",
   "name": "python3"
  },
  "language_info": {
   "codemirror_mode": {
    "name": "ipython",
    "version": 3
   },
   "file_extension": ".py",
   "mimetype": "text/x-python",
   "name": "python",
   "nbconvert_exporter": "python",
   "pygments_lexer": "ipython3",
   "version": "3.12.7"
  }
 },
 "nbformat": 4,
 "nbformat_minor": 5
}
