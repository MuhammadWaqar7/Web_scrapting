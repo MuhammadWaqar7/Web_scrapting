{
 "cells": [
  {
   "cell_type": "code",
   "execution_count": 1,
   "id": "462497bd-5a6d-44c2-93ca-d469fbe85e9d",
   "metadata": {},
   "outputs": [],
   "source": [
    "import requests\n",
    "from bs4 import BeautifulSoup\n",
    "import json\n",
    "import re"
   ]
  },
  {
   "cell_type": "code",
   "execution_count": 5,
   "id": "8b87dde3-5d8b-41c4-8195-d0ed86587612",
   "metadata": {},
   "outputs": [],
   "source": [
    "url = 'https://www.thriftbooks.com/browse/?13362col#b.s=bestsellers-desc&b.p=1&b.pp=50&b.f.lang%5B%5D=40&b.f.t%5B%5D=13362&b.list'\n"
   ]
  },
  {
   "cell_type": "code",
   "execution_count": 6,
   "id": "96be9045-8cc3-4623-818a-561debdfc230",
   "metadata": {},
   "outputs": [
    {
     "data": {
      "text/plain": [
       "<Response [200]>"
      ]
     },
     "execution_count": 6,
     "metadata": {},
     "output_type": "execute_result"
    }
   ],
   "source": [
    "# content = requests.get(url).content\n",
    "# soup = BeautifulSoup(content, 'html.parser')\n",
    "# # web=requests.get(url).content\n",
    "content = requests.get(url)\n",
    "content\n"
   ]
  },
  {
   "cell_type": "code",
   "execution_count": 7,
   "id": "50c58b3d-55b4-4119-abc6-59f9a2f4de0a",
   "metadata": {},
   "outputs": [],
   "source": [
    "content = requests.get(url).content\n",
    "soup = BeautifulSoup(content, 'html.parser')"
   ]
  },
  {
   "cell_type": "code",
   "execution_count": 8,
   "id": "81f11765-f6a7-4a57-acab-bb2b65b51f81",
   "metadata": {},
   "outputs": [],
   "source": [
    "data = soup.find_all('script')\n",
    "string = data[12].string\n",
    "\n",
    "data = {}\n",
    "\n",
    "match = re.search(r'window.searchStoreV2\\s*=\\s*(\\{.*?\\});', string, re.DOTALL)\n",
    "match\n",
    "if match:\n",
    "    works = match.group(1)\n",
    "    works_json = json.loads(works)\n",
    "\n",
    "    works = works_json.get('works',[])\n",
    "# dictionary_data=dict(works[0:])\n",
    "# with open(r'thrift_books_data.csv', 'a') as f:\n",
    "#     f.write(f'title,condition,buy_price\\n')\n",
    "\n",
    "for i in works:\n",
    "    data.update(i)\n",
    "    title = data['title']\n",
    "    condition = data['buyNowCondition']   \n",
    "    buy_price = data['buyNowPrice']\n",
    "\n",
    "    with open(r'thrift_books_data.csv', 'a') as f:\n",
    "        f.write(f'{title},{condition},{buy_price}\\n')\n",
    "    "
   ]
  },
  {
   "cell_type": "code",
   "execution_count": 9,
   "id": "7d712b89-e28b-4b48-a9d7-1dfc9037ee34",
   "metadata": {},
   "outputs": [
    {
     "data": {
      "text/plain": [
       "{'buyNowIDIQ': 1964040,\n",
       " 'buyNowCondition': 'Good',\n",
       " 'buyNowConditionScore': 3,\n",
       " 'language': 'english',\n",
       " 'imageUrl': 'https://i.thriftbooks.com/api/imagehandler/m/D70D7E7467C535449A4E17D6F91ADD61F9441480.jpeg',\n",
       " 'idAmazon': 2672491,\n",
       " 'availableCopies': 299,\n",
       " 'idWishList': 0,\n",
       " 'buyNowIsExLib': False,\n",
       " 'buyNowIsNoCD': False,\n",
       " 'buyNowIsNoDust': False,\n",
       " 'buyNowPrice': 4.39,\n",
       " 'isThriftDeal': True,\n",
       " 'searchResultId': '35e2d55f-ac11-47f8-8135-680df9a8ffe1',\n",
       " 'idWork': 247373,\n",
       " 'title': 'The Lightning Thief',\n",
       " 'workUrl': 'the-lightning-thief_rick-riordan',\n",
       " 'workImageMedium': 'https://i.thriftbooks.com/api/imagehandler/m/D70D7E7467C535449A4E17D6F91ADD61F9441480.jpeg',\n",
       " 'workImageSmall': 'https://i.thriftbooks.com/api/imagehandler/s/D70D7E7467C535449A4E17D6F91ADD61F9441480.jpeg',\n",
       " 'workImageLarge': 'https://i.thriftbooks.com/api/imagehandler/l/D70D7E7467C535449A4E17D6F91ADD61F9441480.jpeg',\n",
       " 'lowPrice': 3.99,\n",
       " 'highPrice': 34.59,\n",
       " 'idMedia': 74,\n",
       " 'media': 'Paperback',\n",
       " 'idQuality': 3,\n",
       " 'idIq': 1964040,\n",
       " 'qualityDescription': 'Good',\n",
       " 'listPrice': 8.99,\n",
       " 'editionImageLarge': 'https://i.thriftbooks.com/api/imagehandler/l/D70D7E7467C535449A4E17D6F91ADD61F9441480.jpeg',\n",
       " 'editionImageMedium': 'https://i.thriftbooks.com/api/imagehandler/m/D70D7E7467C535449A4E17D6F91ADD61F9441480.jpeg',\n",
       " 'editionImageSmall': 'https://i.thriftbooks.com/api/imagehandler/s/D70D7E7467C535449A4E17D6F91ADD61F9441480.jpeg',\n",
       " 'idLanguage': 40,\n",
       " 'languageProperCase': 'English',\n",
       " 'publisher': 'Disney-Hyperion',\n",
       " 'releaseDate': '2006-04-01T00:00:00',\n",
       " 'onSaleDate': '0001-01-01T00:00:00',\n",
       " 'iSBN': '0786838655',\n",
       " 'numberOfReviews': 35,\n",
       " 'avgReviewScore': 4.68571424,\n",
       " 'authors': [{'idAuthor': 196802,\n",
       "   'authorName': 'Rick Riordan',\n",
       "   'authorCleanUrl': 'rick-riordan',\n",
       "   'authorSalesRank': 23}],\n",
       " 'series': [{'idSeries': 37158,\n",
       "   'seriesCleanUrl': 'percy-jackson-and-the-olympians-companion-book',\n",
       "   'seriesName': 'Percy Jackson and the Olympians',\n",
       "   'seriesPriority': 74,\n",
       "   'seriesNumber': '1'}],\n",
       " 'editions': None,\n",
       " 'allEditionCount': 86,\n",
       " 'collectibleCount': 0,\n",
       " 'collectibleLowPrice': 0.0,\n",
       " 'collectibleFormat': None,\n",
       " 'collectibleISBN': None,\n",
       " 'collectiblePublisher': None,\n",
       " 'collectibleReleaseDate': None,\n",
       " 'collectibleCondition': None,\n",
       " 'collectibleImage': None,\n",
       " 'collectibleTitle': None,\n",
       " 'idCollectible': 0,\n",
       " 'collectibleSignedBy': None,\n",
       " 'collectibleInscribedBy': None,\n",
       " 'collectibleEditionName': None,\n",
       " 'collectibleBuyNowPrice': 0.0,\n",
       " 'copiesPerSixMonths': 2355,\n",
       " 'listItemCount': 2150,\n",
       " 'isBackorder': False,\n",
       " 'rerankedSort': 0.0}"
      ]
     },
     "execution_count": 9,
     "metadata": {},
     "output_type": "execute_result"
    }
   ],
   "source": [
    "data"
   ]
  },
  {
   "cell_type": "code",
   "execution_count": null,
   "id": "76af75ee-540f-48b5-88e0-d677c6a4f5bf",
   "metadata": {},
   "outputs": [],
   "source": [
    "for title in titles:\n",
    "    print(title.text)"
   ]
  },
  {
   "cell_type": "code",
   "execution_count": null,
   "id": "eb9539ea-8b61-4435-914b-10bee5c67ec4",
   "metadata": {},
   "outputs": [],
   "source": []
  }
 ],
 "metadata": {
  "kernelspec": {
   "display_name": "base",
   "language": "python",
   "name": "python3"
  },
  "language_info": {
   "codemirror_mode": {
    "name": "ipython",
    "version": 3
   },
   "file_extension": ".py",
   "mimetype": "text/x-python",
   "name": "python",
   "nbconvert_exporter": "python",
   "pygments_lexer": "ipython3",
   "version": "3.12.7"
  }
 },
 "nbformat": 4,
 "nbformat_minor": 5
}
